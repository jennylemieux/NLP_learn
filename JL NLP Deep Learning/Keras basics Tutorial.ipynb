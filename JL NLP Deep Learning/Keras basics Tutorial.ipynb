{
 "cells": [
  {
   "cell_type": "code",
   "execution_count": 1,
   "metadata": {},
   "outputs": [],
   "source": [
    "import numpy as np"
   ]
  },
  {
   "cell_type": "code",
   "execution_count": 2,
   "metadata": {},
   "outputs": [],
   "source": [
    "from sklearn.datasets import load_iris"
   ]
  },
  {
   "cell_type": "code",
   "execution_count": 3,
   "metadata": {},
   "outputs": [],
   "source": [
    "iris = load_iris()"
   ]
  },
  {
   "cell_type": "code",
   "execution_count": 4,
   "metadata": {},
   "outputs": [
    {
     "data": {
      "text/plain": [
       "sklearn.utils.Bunch"
      ]
     },
     "execution_count": 4,
     "metadata": {},
     "output_type": "execute_result"
    }
   ],
   "source": [
    "type(iris)"
   ]
  },
  {
   "cell_type": "code",
   "execution_count": 5,
   "metadata": {},
   "outputs": [
    {
     "name": "stdout",
     "output_type": "stream",
     "text": [
      ".. _iris_dataset:\n",
      "\n",
      "Iris plants dataset\n",
      "--------------------\n",
      "\n",
      "**Data Set Characteristics:**\n",
      "\n",
      "    :Number of Instances: 150 (50 in each of three classes)\n",
      "    :Number of Attributes: 4 numeric, predictive attributes and the class\n",
      "    :Attribute Information:\n",
      "        - sepal length in cm\n",
      "        - sepal width in cm\n",
      "        - petal length in cm\n",
      "        - petal width in cm\n",
      "        - class:\n",
      "                - Iris-Setosa\n",
      "                - Iris-Versicolour\n",
      "                - Iris-Virginica\n",
      "                \n",
      "    :Summary Statistics:\n",
      "\n",
      "    ============== ==== ==== ======= ===== ====================\n",
      "                    Min  Max   Mean    SD   Class Correlation\n",
      "    ============== ==== ==== ======= ===== ====================\n",
      "    sepal length:   4.3  7.9   5.84   0.83    0.7826\n",
      "    sepal width:    2.0  4.4   3.05   0.43   -0.4194\n",
      "    petal length:   1.0  6.9   3.76   1.76    0.9490  (high!)\n",
      "    petal width:    0.1  2.5   1.20   0.76    0.9565  (high!)\n",
      "    ============== ==== ==== ======= ===== ====================\n",
      "\n",
      "    :Missing Attribute Values: None\n",
      "    :Class Distribution: 33.3% for each of 3 classes.\n",
      "    :Creator: R.A. Fisher\n",
      "    :Donor: Michael Marshall (MARSHALL%PLU@io.arc.nasa.gov)\n",
      "    :Date: July, 1988\n",
      "\n",
      "The famous Iris database, first used by Sir R.A. Fisher. The dataset is taken\n",
      "from Fisher's paper. Note that it's the same as in R, but not as in the UCI\n",
      "Machine Learning Repository, which has two wrong data points.\n",
      "\n",
      "This is perhaps the best known database to be found in the\n",
      "pattern recognition literature.  Fisher's paper is a classic in the field and\n",
      "is referenced frequently to this day.  (See Duda & Hart, for example.)  The\n",
      "data set contains 3 classes of 50 instances each, where each class refers to a\n",
      "type of iris plant.  One class is linearly separable from the other 2; the\n",
      "latter are NOT linearly separable from each other.\n",
      "\n",
      ".. topic:: References\n",
      "\n",
      "   - Fisher, R.A. \"The use of multiple measurements in taxonomic problems\"\n",
      "     Annual Eugenics, 7, Part II, 179-188 (1936); also in \"Contributions to\n",
      "     Mathematical Statistics\" (John Wiley, NY, 1950).\n",
      "   - Duda, R.O., & Hart, P.E. (1973) Pattern Classification and Scene Analysis.\n",
      "     (Q327.D83) John Wiley & Sons.  ISBN 0-471-22361-1.  See page 218.\n",
      "   - Dasarathy, B.V. (1980) \"Nosing Around the Neighborhood: A New System\n",
      "     Structure and Classification Rule for Recognition in Partially Exposed\n",
      "     Environments\".  IEEE Transactions on Pattern Analysis and Machine\n",
      "     Intelligence, Vol. PAMI-2, No. 1, 67-71.\n",
      "   - Gates, G.W. (1972) \"The Reduced Nearest Neighbor Rule\".  IEEE Transactions\n",
      "     on Information Theory, May 1972, 431-433.\n",
      "   - See also: 1988 MLC Proceedings, 54-64.  Cheeseman et al\"s AUTOCLASS II\n",
      "     conceptual clustering system finds 3 classes in the data.\n",
      "   - Many, many more ...\n"
     ]
    }
   ],
   "source": [
    "print(iris.DESCR)"
   ]
  },
  {
   "cell_type": "code",
   "execution_count": 6,
   "metadata": {},
   "outputs": [],
   "source": [
    "X = iris.data\n",
    "#X"
   ]
  },
  {
   "cell_type": "code",
   "execution_count": 7,
   "metadata": {},
   "outputs": [],
   "source": [
    "y = iris.target"
   ]
  },
  {
   "cell_type": "markdown",
   "metadata": {},
   "source": [
    "# y  has class 0, 1, and 2.  Want to convert to categorical (one hot encoded)\n",
    "# class 0 --> [1,0,0]\n",
    "# class 1 --> [0,1,0]\n",
    "# class 2 --> [0,0,1]"
   ]
  },
  {
   "cell_type": "code",
   "execution_count": 8,
   "metadata": {},
   "outputs": [],
   "source": [
    "from keras.utils import to_categorical"
   ]
  },
  {
   "cell_type": "code",
   "execution_count": 9,
   "metadata": {},
   "outputs": [],
   "source": [
    "y = to_categorical(y)"
   ]
  },
  {
   "cell_type": "code",
   "execution_count": 10,
   "metadata": {},
   "outputs": [
    {
     "data": {
      "text/plain": [
       "(150, 3)"
      ]
     },
     "execution_count": 10,
     "metadata": {},
     "output_type": "execute_result"
    }
   ],
   "source": [
    "y.shape"
   ]
  },
  {
   "cell_type": "code",
   "execution_count": 12,
   "metadata": {},
   "outputs": [],
   "source": [
    "#y"
   ]
  },
  {
   "cell_type": "code",
   "execution_count": 13,
   "metadata": {},
   "outputs": [],
   "source": [
    "from sklearn.model_selection import train_test_split"
   ]
  },
  {
   "cell_type": "code",
   "execution_count": 14,
   "metadata": {},
   "outputs": [],
   "source": [
    "X_train, X_test, y_train, y_test = train_test_split(X, y, test_size=0.33, random_state=42)"
   ]
  },
  {
   "cell_type": "code",
   "execution_count": 19,
   "metadata": {},
   "outputs": [],
   "source": [
    "#y_test"
   ]
  },
  {
   "cell_type": "code",
   "execution_count": 20,
   "metadata": {},
   "outputs": [],
   "source": [
    "#good to scale or standardize data for NN\n",
    "from sklearn.preprocessing import MinMaxScaler #scales all values between 0 and 1"
   ]
  },
  {
   "cell_type": "code",
   "execution_count": 21,
   "metadata": {},
   "outputs": [],
   "source": [
    "scaler_object = MinMaxScaler()"
   ]
  },
  {
   "cell_type": "code",
   "execution_count": 25,
   "metadata": {},
   "outputs": [],
   "source": [
    "#np.array([5,10,15,20])/20  example of what we're doing with MinMaxScaler"
   ]
  },
  {
   "cell_type": "code",
   "execution_count": 26,
   "metadata": {},
   "outputs": [
    {
     "data": {
      "text/plain": [
       "MinMaxScaler(copy=True, feature_range=(0, 1))"
      ]
     },
     "execution_count": 26,
     "metadata": {},
     "output_type": "execute_result"
    }
   ],
   "source": [
    "scaler_object.fit(X_train) #fit on only training data as don't want to assume prior knowledge of test data"
   ]
  },
  {
   "cell_type": "code",
   "execution_count": 27,
   "metadata": {},
   "outputs": [],
   "source": [
    "scaled_X_train = scaler_object.transform(X_train)"
   ]
  },
  {
   "cell_type": "code",
   "execution_count": 28,
   "metadata": {},
   "outputs": [],
   "source": [
    "scaled_X_test = scaler_object.transform(X_test)"
   ]
  },
  {
   "cell_type": "code",
   "execution_count": 34,
   "metadata": {},
   "outputs": [],
   "source": [
    "#X_train"
   ]
  },
  {
   "cell_type": "code",
   "execution_count": 30,
   "metadata": {},
   "outputs": [],
   "source": [
    "#scaled_X_train when look now all b/w 0 and 1"
   ]
  },
  {
   "cell_type": "code",
   "execution_count": 31,
   "metadata": {},
   "outputs": [],
   "source": [
    "#now build network with keras\n",
    "from keras.models import Sequential\n",
    "from keras.layers import Dense"
   ]
  },
  {
   "cell_type": "code",
   "execution_count": 35,
   "metadata": {},
   "outputs": [
    {
     "name": "stdout",
     "output_type": "stream",
     "text": [
      "WARNING:tensorflow:From C:\\Users\\User\\anaconda3\\lib\\site-packages\\tensorflow\\python\\ops\\resource_variable_ops.py:435: colocate_with (from tensorflow.python.framework.ops) is deprecated and will be removed in a future version.\n",
      "Instructions for updating:\n",
      "Colocations handled automatically by placer.\n"
     ]
    }
   ],
   "source": [
    "model = Sequential() #create sequential model\n",
    "model.add(Dense(8, input_dim=4, activation='relu')) #add layers (each has different parameters) 8 neurons -> 2X number of features (usually a multiple)\n",
    "model.add(Dense(8, input_dim=4, activation='relu'))\n",
    "model.add(Dense(3, activation='softmax')) #each of 3 neurons will have a probability for belonging to a class (of one hot)\n",
    "model.compile(loss='categorical_crossentropy', optimizer='adam', metrics=['accuracy']) #cause categorical data"
   ]
  },
  {
   "cell_type": "code",
   "execution_count": 36,
   "metadata": {},
   "outputs": [
    {
     "name": "stdout",
     "output_type": "stream",
     "text": [
      "Model: \"sequential_1\"\n",
      "_________________________________________________________________\n",
      "Layer (type)                 Output Shape              Param #   \n",
      "=================================================================\n",
      "dense_1 (Dense)              (None, 8)                 40        \n",
      "_________________________________________________________________\n",
      "dense_2 (Dense)              (None, 8)                 72        \n",
      "_________________________________________________________________\n",
      "dense_3 (Dense)              (None, 3)                 27        \n",
      "=================================================================\n",
      "Total params: 139\n",
      "Trainable params: 139\n",
      "Non-trainable params: 0\n",
      "_________________________________________________________________\n"
     ]
    }
   ],
   "source": [
    "model.summary()"
   ]
  },
  {
   "cell_type": "code",
   "execution_count": 37,
   "metadata": {},
   "outputs": [
    {
     "name": "stdout",
     "output_type": "stream",
     "text": [
      "WARNING:tensorflow:From C:\\Users\\User\\anaconda3\\lib\\site-packages\\tensorflow\\python\\ops\\math_ops.py:3066: to_int32 (from tensorflow.python.ops.math_ops) is deprecated and will be removed in a future version.\n",
      "Instructions for updating:\n",
      "Use tf.cast instead.\n",
      "Epoch 1/150\n",
      " - 0s - loss: 1.1287 - accuracy: 0.6600\n",
      "Epoch 2/150\n",
      " - 0s - loss: 1.1157 - accuracy: 0.6600\n",
      "Epoch 3/150\n",
      " - 0s - loss: 1.1035 - accuracy: 0.6500\n",
      "Epoch 4/150\n",
      " - 0s - loss: 1.0918 - accuracy: 0.6600\n",
      "Epoch 5/150\n",
      " - 0s - loss: 1.0801 - accuracy: 0.6600\n",
      "Epoch 6/150\n",
      " - 0s - loss: 1.0676 - accuracy: 0.6600\n",
      "Epoch 7/150\n",
      " - 0s - loss: 1.0565 - accuracy: 0.6600\n",
      "Epoch 8/150\n",
      " - 0s - loss: 1.0445 - accuracy: 0.6600\n",
      "Epoch 9/150\n",
      " - 0s - loss: 1.0328 - accuracy: 0.6600\n",
      "Epoch 10/150\n",
      " - 0s - loss: 1.0204 - accuracy: 0.6600\n",
      "Epoch 11/150\n",
      " - 0s - loss: 1.0077 - accuracy: 0.6600\n",
      "Epoch 12/150\n",
      " - 0s - loss: 0.9948 - accuracy: 0.6600\n",
      "Epoch 13/150\n",
      " - 0s - loss: 0.9812 - accuracy: 0.6600\n",
      "Epoch 14/150\n",
      " - 0s - loss: 0.9676 - accuracy: 0.6600\n",
      "Epoch 15/150\n",
      " - 0s - loss: 0.9539 - accuracy: 0.6600\n",
      "Epoch 16/150\n",
      " - 0s - loss: 0.9397 - accuracy: 0.6600\n",
      "Epoch 17/150\n",
      " - 0s - loss: 0.9255 - accuracy: 0.6600\n",
      "Epoch 18/150\n",
      " - 0s - loss: 0.9112 - accuracy: 0.6600\n",
      "Epoch 19/150\n",
      " - 0s - loss: 0.8968 - accuracy: 0.6600\n",
      "Epoch 20/150\n",
      " - 0s - loss: 0.8827 - accuracy: 0.6600\n",
      "Epoch 21/150\n",
      " - 0s - loss: 0.8681 - accuracy: 0.6200\n",
      "Epoch 22/150\n",
      " - 0s - loss: 0.8543 - accuracy: 0.5700\n",
      "Epoch 23/150\n",
      " - 0s - loss: 0.8405 - accuracy: 0.4400\n",
      "Epoch 24/150\n",
      " - 0s - loss: 0.8265 - accuracy: 0.4600\n",
      "Epoch 25/150\n",
      " - 0s - loss: 0.8137 - accuracy: 0.5700\n",
      "Epoch 26/150\n",
      " - 0s - loss: 0.8007 - accuracy: 0.6300\n",
      "Epoch 27/150\n",
      " - 0s - loss: 0.7882 - accuracy: 0.6500\n",
      "Epoch 28/150\n",
      " - 0s - loss: 0.7762 - accuracy: 0.6500\n",
      "Epoch 29/150\n",
      " - 0s - loss: 0.7640 - accuracy: 0.6500\n",
      "Epoch 30/150\n",
      " - 0s - loss: 0.7528 - accuracy: 0.6500\n",
      "Epoch 31/150\n",
      " - 0s - loss: 0.7418 - accuracy: 0.6500\n",
      "Epoch 32/150\n",
      " - 0s - loss: 0.7313 - accuracy: 0.6500\n",
      "Epoch 33/150\n",
      " - 0s - loss: 0.7211 - accuracy: 0.6500\n",
      "Epoch 34/150\n",
      " - 0s - loss: 0.7109 - accuracy: 0.6500\n",
      "Epoch 35/150\n",
      " - 0s - loss: 0.7015 - accuracy: 0.6500\n",
      "Epoch 36/150\n",
      " - 0s - loss: 0.6915 - accuracy: 0.6500\n",
      "Epoch 37/150\n",
      " - 0s - loss: 0.6820 - accuracy: 0.6500\n",
      "Epoch 38/150\n",
      " - 0s - loss: 0.6726 - accuracy: 0.6500\n",
      "Epoch 39/150\n",
      " - 0s - loss: 0.6634 - accuracy: 0.6500\n",
      "Epoch 40/150\n",
      " - 0s - loss: 0.6546 - accuracy: 0.6500\n",
      "Epoch 41/150\n",
      " - 0s - loss: 0.6463 - accuracy: 0.6500\n",
      "Epoch 42/150\n",
      " - 0s - loss: 0.6381 - accuracy: 0.6500\n",
      "Epoch 43/150\n",
      " - 0s - loss: 0.6301 - accuracy: 0.6500\n",
      "Epoch 44/150\n",
      " - 0s - loss: 0.6228 - accuracy: 0.6500\n",
      "Epoch 45/150\n",
      " - 0s - loss: 0.6158 - accuracy: 0.6500\n",
      "Epoch 46/150\n",
      " - 0s - loss: 0.6086 - accuracy: 0.6500\n",
      "Epoch 47/150\n",
      " - 0s - loss: 0.6023 - accuracy: 0.6500\n",
      "Epoch 48/150\n",
      " - 0s - loss: 0.5960 - accuracy: 0.6500\n",
      "Epoch 49/150\n",
      " - 0s - loss: 0.5900 - accuracy: 0.6500\n",
      "Epoch 50/150\n",
      " - 0s - loss: 0.5840 - accuracy: 0.6500\n",
      "Epoch 51/150\n",
      " - 0s - loss: 0.5787 - accuracy: 0.6500\n",
      "Epoch 52/150\n",
      " - 0s - loss: 0.5735 - accuracy: 0.6500\n",
      "Epoch 53/150\n",
      " - 0s - loss: 0.5684 - accuracy: 0.6500\n",
      "Epoch 54/150\n",
      " - 0s - loss: 0.5634 - accuracy: 0.6500\n",
      "Epoch 55/150\n",
      " - 0s - loss: 0.5586 - accuracy: 0.6500\n",
      "Epoch 56/150\n",
      " - 0s - loss: 0.5541 - accuracy: 0.6500\n",
      "Epoch 57/150\n",
      " - 0s - loss: 0.5497 - accuracy: 0.6500\n",
      "Epoch 58/150\n",
      " - 0s - loss: 0.5454 - accuracy: 0.6500\n",
      "Epoch 59/150\n",
      " - 0s - loss: 0.5416 - accuracy: 0.6500\n",
      "Epoch 60/150\n",
      " - 0s - loss: 0.5376 - accuracy: 0.6500\n",
      "Epoch 61/150\n",
      " - 0s - loss: 0.5338 - accuracy: 0.6500\n",
      "Epoch 62/150\n",
      " - 0s - loss: 0.5303 - accuracy: 0.6500\n",
      "Epoch 63/150\n",
      " - 0s - loss: 0.5268 - accuracy: 0.6500\n",
      "Epoch 64/150\n",
      " - 0s - loss: 0.5237 - accuracy: 0.6500\n",
      "Epoch 65/150\n",
      " - 0s - loss: 0.5201 - accuracy: 0.6500\n",
      "Epoch 66/150\n",
      " - 0s - loss: 0.5169 - accuracy: 0.6500\n",
      "Epoch 67/150\n",
      " - 0s - loss: 0.5140 - accuracy: 0.6500\n",
      "Epoch 68/150\n",
      " - 0s - loss: 0.5111 - accuracy: 0.6500\n",
      "Epoch 69/150\n",
      " - 0s - loss: 0.5082 - accuracy: 0.6500\n",
      "Epoch 70/150\n",
      " - 0s - loss: 0.5057 - accuracy: 0.6500\n",
      "Epoch 71/150\n",
      " - 0s - loss: 0.5030 - accuracy: 0.6500\n",
      "Epoch 72/150\n",
      " - 0s - loss: 0.5005 - accuracy: 0.6700\n",
      "Epoch 73/150\n",
      " - 0s - loss: 0.4980 - accuracy: 0.6800\n",
      "Epoch 74/150\n",
      " - 0s - loss: 0.4949 - accuracy: 0.6800\n",
      "Epoch 75/150\n",
      " - 0s - loss: 0.4922 - accuracy: 0.7100\n",
      "Epoch 76/150\n",
      " - 0s - loss: 0.4898 - accuracy: 0.7200\n",
      "Epoch 77/150\n",
      " - 0s - loss: 0.4873 - accuracy: 0.7400\n",
      "Epoch 78/150\n",
      " - 0s - loss: 0.4849 - accuracy: 0.7600\n",
      "Epoch 79/150\n",
      " - 0s - loss: 0.4826 - accuracy: 0.7600\n",
      "Epoch 80/150\n",
      " - 0s - loss: 0.4801 - accuracy: 0.7600\n",
      "Epoch 81/150\n",
      " - 0s - loss: 0.4777 - accuracy: 0.7700\n",
      "Epoch 82/150\n",
      " - 0s - loss: 0.4756 - accuracy: 0.7700\n",
      "Epoch 83/150\n",
      " - 0s - loss: 0.4732 - accuracy: 0.7700\n",
      "Epoch 84/150\n",
      " - 0s - loss: 0.4709 - accuracy: 0.7700\n",
      "Epoch 85/150\n",
      " - 0s - loss: 0.4685 - accuracy: 0.7700\n",
      "Epoch 86/150\n",
      " - 0s - loss: 0.4668 - accuracy: 0.7600\n",
      "Epoch 87/150\n",
      " - 0s - loss: 0.4642 - accuracy: 0.7600\n",
      "Epoch 88/150\n",
      " - 0s - loss: 0.4622 - accuracy: 0.7600\n",
      "Epoch 89/150\n",
      " - 0s - loss: 0.4600 - accuracy: 0.7600\n",
      "Epoch 90/150\n",
      " - 0s - loss: 0.4572 - accuracy: 0.7700\n",
      "Epoch 91/150\n",
      " - 0s - loss: 0.4550 - accuracy: 0.7800\n",
      "Epoch 92/150\n",
      " - 0s - loss: 0.4518 - accuracy: 0.8000\n",
      "Epoch 93/150\n",
      " - 0s - loss: 0.4492 - accuracy: 0.8100\n",
      "Epoch 94/150\n",
      " - 0s - loss: 0.4465 - accuracy: 0.8300\n",
      "Epoch 95/150\n",
      " - 0s - loss: 0.4438 - accuracy: 0.8600\n",
      "Epoch 96/150\n",
      " - 0s - loss: 0.4414 - accuracy: 0.8600\n",
      "Epoch 97/150\n",
      " - 0s - loss: 0.4387 - accuracy: 0.8800\n",
      "Epoch 98/150\n",
      " - 0s - loss: 0.4361 - accuracy: 0.8800\n",
      "Epoch 99/150\n",
      " - 0s - loss: 0.4338 - accuracy: 0.8800\n",
      "Epoch 100/150\n",
      " - 0s - loss: 0.4314 - accuracy: 0.8800\n",
      "Epoch 101/150\n",
      " - 0s - loss: 0.4288 - accuracy: 0.8800\n",
      "Epoch 102/150\n",
      " - 0s - loss: 0.4265 - accuracy: 0.8800\n",
      "Epoch 103/150\n",
      " - 0s - loss: 0.4242 - accuracy: 0.8800\n",
      "Epoch 104/150\n",
      " - 0s - loss: 0.4221 - accuracy: 0.8700\n",
      "Epoch 105/150\n",
      " - 0s - loss: 0.4197 - accuracy: 0.8800\n",
      "Epoch 106/150\n",
      " - 0s - loss: 0.4173 - accuracy: 0.8700\n",
      "Epoch 107/150\n",
      " - 0s - loss: 0.4153 - accuracy: 0.8600\n",
      "Epoch 108/150\n",
      " - 0s - loss: 0.4132 - accuracy: 0.8600\n",
      "Epoch 109/150\n",
      " - 0s - loss: 0.4108 - accuracy: 0.8700\n",
      "Epoch 110/150\n",
      " - 0s - loss: 0.4084 - accuracy: 0.8800\n",
      "Epoch 111/150\n",
      " - 0s - loss: 0.4061 - accuracy: 0.8800\n",
      "Epoch 112/150\n",
      " - 0s - loss: 0.4043 - accuracy: 0.8700\n",
      "Epoch 113/150\n",
      " - 0s - loss: 0.4027 - accuracy: 0.8600\n",
      "Epoch 114/150\n",
      " - 0s - loss: 0.4013 - accuracy: 0.8600\n",
      "Epoch 115/150\n",
      " - 0s - loss: 0.3994 - accuracy: 0.8600\n",
      "Epoch 116/150\n",
      " - 0s - loss: 0.3977 - accuracy: 0.8600\n",
      "Epoch 117/150\n",
      " - 0s - loss: 0.3959 - accuracy: 0.8500\n",
      "Epoch 118/150\n",
      " - 0s - loss: 0.3938 - accuracy: 0.8600\n",
      "Epoch 119/150\n",
      " - 0s - loss: 0.3917 - accuracy: 0.8600\n",
      "Epoch 120/150\n",
      " - 0s - loss: 0.3892 - accuracy: 0.8700\n",
      "Epoch 121/150\n",
      " - 0s - loss: 0.3862 - accuracy: 0.8900\n",
      "Epoch 122/150\n",
      " - 0s - loss: 0.3837 - accuracy: 0.9000\n",
      "Epoch 123/150\n",
      " - 0s - loss: 0.3809 - accuracy: 0.9100\n",
      "Epoch 124/150\n",
      " - 0s - loss: 0.3793 - accuracy: 0.9200\n",
      "Epoch 125/150\n",
      " - 0s - loss: 0.3777 - accuracy: 0.9200\n",
      "Epoch 126/150\n",
      " - 0s - loss: 0.3757 - accuracy: 0.9200\n",
      "Epoch 127/150\n",
      " - 0s - loss: 0.3737 - accuracy: 0.9200\n",
      "Epoch 128/150\n",
      " - 0s - loss: 0.3709 - accuracy: 0.9300\n",
      "Epoch 129/150\n",
      " - 0s - loss: 0.3679 - accuracy: 0.9200\n",
      "Epoch 130/150\n",
      " - 0s - loss: 0.3658 - accuracy: 0.9100\n",
      "Epoch 131/150\n",
      " - 0s - loss: 0.3646 - accuracy: 0.9100\n",
      "Epoch 132/150\n",
      " - 0s - loss: 0.3621 - accuracy: 0.9200\n",
      "Epoch 133/150\n",
      " - 0s - loss: 0.3597 - accuracy: 0.9200\n",
      "Epoch 134/150\n",
      " - 0s - loss: 0.3577 - accuracy: 0.9200\n",
      "Epoch 135/150\n",
      " - 0s - loss: 0.3564 - accuracy: 0.9300\n",
      "Epoch 136/150\n",
      " - 0s - loss: 0.3537 - accuracy: 0.9200\n",
      "Epoch 137/150\n",
      " - 0s - loss: 0.3510 - accuracy: 0.9300\n",
      "Epoch 138/150\n",
      " - 0s - loss: 0.3491 - accuracy: 0.9300\n",
      "Epoch 139/150\n",
      " - 0s - loss: 0.3472 - accuracy: 0.9300\n",
      "Epoch 140/150\n",
      " - 0s - loss: 0.3464 - accuracy: 0.9300\n",
      "Epoch 141/150\n",
      " - 0s - loss: 0.3436 - accuracy: 0.9200\n",
      "Epoch 142/150\n",
      " - 0s - loss: 0.3417 - accuracy: 0.9200\n",
      "Epoch 143/150\n",
      " - 0s - loss: 0.3403 - accuracy: 0.9200\n",
      "Epoch 144/150\n",
      " - 0s - loss: 0.3384 - accuracy: 0.9200\n",
      "Epoch 145/150\n",
      " - 0s - loss: 0.3360 - accuracy: 0.9300\n",
      "Epoch 146/150\n",
      " - 0s - loss: 0.3335 - accuracy: 0.9300\n",
      "Epoch 147/150\n",
      " - 0s - loss: 0.3316 - accuracy: 0.9300\n",
      "Epoch 148/150\n",
      " - 0s - loss: 0.3298 - accuracy: 0.9400\n",
      "Epoch 149/150\n",
      " - 0s - loss: 0.3279 - accuracy: 0.9400\n"
     ]
    },
    {
     "name": "stdout",
     "output_type": "stream",
     "text": [
      "Epoch 150/150\n",
      " - 0s - loss: 0.3260 - accuracy: 0.9400\n"
     ]
    },
    {
     "data": {
      "text/plain": [
       "<keras.callbacks.callbacks.History at 0x2509d94d5c8>"
      ]
     },
     "execution_count": 37,
     "metadata": {},
     "output_type": "execute_result"
    }
   ],
   "source": [
    "model.fit(scaled_X_train, y_train, epochs=150, verbose=2) #verbose gives you info"
   ]
  },
  {
   "cell_type": "markdown",
   "metadata": {},
   "source": [
    "#predict on new data, and measure performance"
   ]
  },
  {
   "cell_type": "code",
   "execution_count": 40,
   "metadata": {},
   "outputs": [
    {
     "data": {
      "text/plain": [
       "array([1, 0, 2, 1, 2, 0, 1, 2, 2, 1, 2, 0, 0, 0, 0, 1, 2, 1, 1, 2, 0, 2,\n",
       "       0, 2, 2, 2, 2, 2, 0, 0, 0, 0, 1, 0, 0, 2, 1, 0, 0, 0, 2, 1, 1, 0,\n",
       "       0, 1, 2, 2, 1, 2], dtype=int64)"
      ]
     },
     "execution_count": 40,
     "metadata": {},
     "output_type": "execute_result"
    }
   ],
   "source": [
    "#we have scaled data already- if have new data, will have to scale it \n",
    "#model.predict(scaled_X_test) #spits out probabilities\n",
    "model.predict_classes(scaled_X_test) #predict classes, not one hot encoded, just index position"
   ]
  },
  {
   "cell_type": "code",
   "execution_count": 41,
   "metadata": {},
   "outputs": [],
   "source": [
    "#compare predictions to y_test\n",
    "predictions = model.predict_classes(scaled_X_test)"
   ]
  },
  {
   "cell_type": "code",
   "execution_count": 42,
   "metadata": {},
   "outputs": [
    {
     "data": {
      "text/plain": [
       "array([1, 0, 2, 1, 1, 0, 1, 2, 1, 1, 2, 0, 0, 0, 0, 1, 2, 1, 1, 2, 0, 2,\n",
       "       0, 2, 2, 2, 2, 2, 0, 0, 0, 0, 1, 0, 0, 2, 1, 0, 0, 0, 2, 1, 1, 0,\n",
       "       0, 1, 2, 2, 1, 2], dtype=int64)"
      ]
     },
     "execution_count": 42,
     "metadata": {},
     "output_type": "execute_result"
    }
   ],
   "source": [
    "y_test.argmax(axis = 1) #transform y_test data, reports back actual classes cause max value at index of corresponding class"
   ]
  },
  {
   "cell_type": "code",
   "execution_count": 43,
   "metadata": {},
   "outputs": [],
   "source": [
    "from sklearn.metrics import confusion_matrix, classification_report, accuracy_score"
   ]
  },
  {
   "cell_type": "code",
   "execution_count": 44,
   "metadata": {},
   "outputs": [
    {
     "data": {
      "text/plain": [
       "array([[19,  0,  0],\n",
       "       [ 0, 13,  2],\n",
       "       [ 0,  0, 16]], dtype=int64)"
      ]
     },
     "execution_count": 44,
     "metadata": {},
     "output_type": "execute_result"
    }
   ],
   "source": [
    "confusion_matrix(y_test.argmax(axis=1), predictions)"
   ]
  },
  {
   "cell_type": "code",
   "execution_count": 45,
   "metadata": {},
   "outputs": [
    {
     "name": "stdout",
     "output_type": "stream",
     "text": [
      "              precision    recall  f1-score   support\n",
      "\n",
      "           0       1.00      1.00      1.00        19\n",
      "           1       1.00      0.87      0.93        15\n",
      "           2       0.89      1.00      0.94        16\n",
      "\n",
      "    accuracy                           0.96        50\n",
      "   macro avg       0.96      0.96      0.96        50\n",
      "weighted avg       0.96      0.96      0.96        50\n",
      "\n"
     ]
    }
   ],
   "source": [
    "print(classification_report(y_test.argmax(axis=1), predictions))"
   ]
  },
  {
   "cell_type": "code",
   "execution_count": 46,
   "metadata": {},
   "outputs": [
    {
     "name": "stdout",
     "output_type": "stream",
     "text": [
      "0.96\n"
     ]
    }
   ],
   "source": [
    "print(accuracy_score(y_test.argmax(axis=1), predictions))"
   ]
  },
  {
   "cell_type": "code",
   "execution_count": 47,
   "metadata": {},
   "outputs": [],
   "source": [
    "#to be able to save and load model\n",
    "model.save('myfirstmodel.h5') #saves all weights of network so can quickly load again"
   ]
  },
  {
   "cell_type": "code",
   "execution_count": 48,
   "metadata": {},
   "outputs": [],
   "source": [
    "#to load\n",
    "from keras.models import load_model"
   ]
  },
  {
   "cell_type": "code",
   "execution_count": 49,
   "metadata": {},
   "outputs": [],
   "source": [
    "new_model = load_model('myfirstmodel.h5') #make sure to call from right location, be careful of naming scheme, as this overwrites other h5 files\n"
   ]
  },
  {
   "cell_type": "code",
   "execution_count": 50,
   "metadata": {},
   "outputs": [
    {
     "data": {
      "text/plain": [
       "array([1, 0, 2, 1, 2, 0, 1, 2, 2, 1, 2, 0, 0, 0, 0, 1, 2, 1, 1, 2, 0, 2,\n",
       "       0, 2, 2, 2, 2, 2, 0, 0, 0, 0, 1, 0, 0, 2, 1, 0, 0, 0, 2, 1, 1, 0,\n",
       "       0, 1, 2, 2, 1, 2], dtype=int64)"
      ]
     },
     "execution_count": 50,
     "metadata": {},
     "output_type": "execute_result"
    }
   ],
   "source": [
    "new_model.predict_classes(scaled_X_test) #can then pass in data, run, and get classes predicted"
   ]
  },
  {
   "cell_type": "code",
   "execution_count": null,
   "metadata": {},
   "outputs": [],
   "source": []
  }
 ],
 "metadata": {
  "kernelspec": {
   "display_name": "Python 3",
   "language": "python",
   "name": "python3"
  },
  "language_info": {
   "codemirror_mode": {
    "name": "ipython",
    "version": 3
   },
   "file_extension": ".py",
   "mimetype": "text/x-python",
   "name": "python",
   "nbconvert_exporter": "python",
   "pygments_lexer": "ipython3",
   "version": "3.7.6"
  }
 },
 "nbformat": 4,
 "nbformat_minor": 4
}
